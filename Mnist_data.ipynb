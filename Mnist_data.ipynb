{
  "nbformat": 4,
  "nbformat_minor": 0,
  "metadata": {
    "kernelspec": {
      "display_name": "Python 3",
      "language": "python",
      "name": "python3"
    },
    "language_info": {
      "codemirror_mode": {
        "name": "ipython",
        "version": 3
      },
      "file_extension": ".py",
      "mimetype": "text/x-python",
      "name": "python",
      "nbconvert_exporter": "python",
      "pygments_lexer": "ipython3",
      "version": "3.7.3"
    },
    "colab": {
      "name": "01_Student_Notebook.ipynb",
      "provenance": []
    },
    "accelerator": "TPU"
  },
  "cells": [
    {
      "cell_type": "markdown",
      "metadata": {
        "id": "bmPenMIcRIqz",
        "colab_type": "text"
      },
      "source": [
        "![Rhyme](https://rhyme.com/assets/img/logo-dark.png)"
      ]
    },
    {
      "cell_type": "markdown",
      "metadata": {
        "id": "vI6280u3RIq2",
        "colab_type": "text"
      },
      "source": [
        "# Task 1: Introduction\n",
        "\n",
        "Welcome to Basic Image Classification with TensorFlow.\n",
        "\n",
        "This graph describes the problem that we are trying to solve visually. We want to create and train a model that takes an image of a hand written digit as input and predicts the class of that digit, that is, it predicts the digit or it predicts the class of the input image.\n",
        "\n",
        "![Hand Written Digits Classification](images/1_1.png)"
      ]
    },
    {
      "cell_type": "markdown",
      "metadata": {
        "id": "O2TWCEaURIq4",
        "colab_type": "text"
      },
      "source": [
        "### Import TensorFlow"
      ]
    },
    {
      "cell_type": "code",
      "metadata": {
        "id": "kCBnaqnjRIq8",
        "colab_type": "code",
        "colab": {
          "base_uri": "https://localhost:8080/",
          "height": 34
        },
        "outputId": "5c602792-960c-4082-b27d-1c886dadcfbb"
      },
      "source": [
        "import tensorflow as tf\n",
        "\n",
        "# tf.logging.set_verbosity(tf.logging.ERROR)\n",
        "print('Using TensorFlow version', tf.__version__)"
      ],
      "execution_count": 1,
      "outputs": [
        {
          "output_type": "stream",
          "text": [
            "Using TensorFlow version 2.3.0\n"
          ],
          "name": "stdout"
        }
      ]
    },
    {
      "cell_type": "markdown",
      "metadata": {
        "id": "7wVHDGknRIrH",
        "colab_type": "text"
      },
      "source": [
        "# Task 2: The Dataset\n",
        "### Import MNIST"
      ]
    },
    {
      "cell_type": "code",
      "metadata": {
        "id": "qw4mj6mZRIrJ",
        "colab_type": "code",
        "colab": {
          "base_uri": "https://localhost:8080/",
          "height": 50
        },
        "outputId": "4a09385b-e306-4fbb-fa32-012f9f8ce0c5"
      },
      "source": [
        "from tensorflow.keras.datasets import mnist\n",
        "\n",
        "(xtrain,ytrain), (xtest,ytest) = mnist.load_data()"
      ],
      "execution_count": 3,
      "outputs": [
        {
          "output_type": "stream",
          "text": [
            "Downloading data from https://storage.googleapis.com/tensorflow/tf-keras-datasets/mnist.npz\n",
            "11493376/11490434 [==============================] - 0s 0us/step\n"
          ],
          "name": "stdout"
        }
      ]
    },
    {
      "cell_type": "markdown",
      "metadata": {
        "id": "mREUS-LwRIrT",
        "colab_type": "text"
      },
      "source": [
        "### Shapes of Imported Arrays"
      ]
    },
    {
      "cell_type": "code",
      "metadata": {
        "id": "XVMRSy6-RIrW",
        "colab_type": "code",
        "colab": {
          "base_uri": "https://localhost:8080/",
          "height": 84
        },
        "outputId": "a9f20839-f149-4002-8d94-46de2f680bd3"
      },
      "source": [
        "print(\"xtrain shape\", xtrain.shape)\n",
        "print(\"ytrain shape\", ytrain.shape)\n",
        "print(\"xtest shape\", xtest.shape)\n",
        "print(\"ytest shape\", ytest.shape)"
      ],
      "execution_count": 5,
      "outputs": [
        {
          "output_type": "stream",
          "text": [
            "xtrain shape (60000, 28, 28)\n",
            "ytrain shape (60000,)\n",
            "xtest shape (10000, 28, 28)\n",
            "ytest shape (10000,)\n"
          ],
          "name": "stdout"
        }
      ]
    },
    {
      "cell_type": "markdown",
      "metadata": {
        "id": "xuKnmk3kRIrg",
        "colab_type": "text"
      },
      "source": [
        "### Plot an Image Example"
      ]
    },
    {
      "cell_type": "code",
      "metadata": {
        "id": "8WYv85hlRIri",
        "colab_type": "code",
        "colab": {
          "base_uri": "https://localhost:8080/",
          "height": 265
        },
        "outputId": "3cfbfbf9-b33a-4d76-a3bc-f69a9fbb0e59"
      },
      "source": [
        "import matplotlib.pyplot as plt\n",
        "%matplotlib inline\n",
        "\n",
        "plt.imshow(xtrain[0], cmap=\"binary\")\n",
        "plt.show()"
      ],
      "execution_count": 15,
      "outputs": [
        {
          "output_type": "display_data",
          "data": {
            "image/png": "[encoded data removed]",
            "text/plain": [
              "<Figure size 432x288 with 1 Axes>"
            ]
          },
          "metadata": {
            "tags": [],
            "needs_background": "light"
          }
        }
      ]
    },
    {
      "cell_type": "markdown",
      "metadata": {
        "id": "h58-qm8mRIrp",
        "colab_type": "text"
      },
      "source": [
        "### Display Labels"
      ]
    },
    {
      "cell_type": "code",
      "metadata": {
        "id": "ITBW8JT8RIrq",
        "colab_type": "code",
        "colab": {
          "base_uri": "https://localhost:8080/",
          "height": 34
        },
        "outputId": "c597f079-c347-4c9a-bcee-72d30763a6bb"
      },
      "source": [
        "ytrain[0]"
      ],
      "execution_count": 16,
      "outputs": [
        {
          "output_type": "execute_result",
          "data": {
            "text/plain": [
              "5"
            ]
          },
          "metadata": {
            "tags": []
          },
          "execution_count": 16
        }
      ]
    },
    {
      "cell_type": "code",
      "metadata": {
        "id": "73vS8uI8RIrx",
        "colab_type": "code",
        "colab": {
          "base_uri": "https://localhost:8080/",
          "height": 34
        },
        "outputId": "cb2f5f9b-c63b-40d7-da2d-168b68ef3e0c"
      },
      "source": [
        "print(set(ytrain))"
      ],
      "execution_count": 19,
      "outputs": [
        {
          "output_type": "stream",
          "text": [
            "{0, 1, 2, 3, 4, 5, 6, 7, 8, 9}\n"
          ],
          "name": "stdout"
        }
      ]
    },
    {
      "cell_type": "markdown",
      "metadata": {
        "id": "njaY5n_7RIr3",
        "colab_type": "text"
      },
      "source": [
        "# Task 3: One Hot Encoding\n",
        "After this encoding, every label will be converted to a list with 10 elements and the element at index to the corresponding class will be set to 1, rest will be set to 0:\n",
        "\n",
        "| original label | one-hot encoded label |\n",
        "|------|------|\n",
        "| 5 | [0, 0, 0, 0, 0, 1, 0, 0, 0, 0] |\n",
        "| 7 | [0, 0, 0, 0, 0, 0, 0, 1, 0, 0] |\n",
        "| 1 | [0, 1, 0, 0, 0, 0, 0, 0, 0, 0] |\n",
        "\n",
        "### Encoding Labels"
      ]
    },
    {
      "cell_type": "code",
      "metadata": {
        "id": "TxxLFA4RRIr9",
        "colab_type": "code",
        "colab": {}
      },
      "source": [
        "from tensorflow.keras.utils import to_categorical\n",
        "\n",
        "ytrain_encoded = to_categorical(ytrain)\n",
        "ytest_encoded = to_categorical(ytest)"
      ],
      "execution_count": 20,
      "outputs": []
    },
    {
      "cell_type": "markdown",
      "metadata": {
        "id": "L3NO7BLjRIsC",
        "colab_type": "text"
      },
      "source": [
        "### Validated Shapes"
      ]
    },
    {
      "cell_type": "code",
      "metadata": {
        "id": "MzwSJOLuRIsD",
        "colab_type": "code",
        "colab": {
          "base_uri": "https://localhost:8080/",
          "height": 50
        },
        "outputId": "f00ed566-d6d6-4ca1-dc1d-742519868bc5"
      },
      "source": [
        "print(\"ytrain_encoded shape\",ytrain_encoded.shape)\n",
        "print(\"ytest_encoded shape\",ytest_encoded.shape)"
      ],
      "execution_count": 23,
      "outputs": [
        {
          "output_type": "stream",
          "text": [
            "ytrain_encoded shape (60000, 10)\n",
            "ytest_encoded shape (10000, 10)\n"
          ],
          "name": "stdout"
        }
      ]
    },
    {
      "cell_type": "markdown",
      "metadata": {
        "id": "o5mknVPPRIsI",
        "colab_type": "text"
      },
      "source": [
        "### Display Encoded Labels"
      ]
    },
    {
      "cell_type": "code",
      "metadata": {
        "id": "ZN3OJEcQRIsJ",
        "colab_type": "code",
        "colab": {
          "base_uri": "https://localhost:8080/",
          "height": 34
        },
        "outputId": "403aec38-d59d-4655-f18b-19196f5e7cd3"
      },
      "source": [
        "ytrain_encoded[0]"
      ],
      "execution_count": 24,
      "outputs": [
        {
          "output_type": "execute_result",
          "data": {
            "text/plain": [
              "array([0., 0., 0., 0., 0., 1., 0., 0., 0., 0.], dtype=float32)"
            ]
          },
          "metadata": {
            "tags": []
          },
          "execution_count": 24
        }
      ]
    },
    {
      "cell_type": "markdown",
      "metadata": {
        "id": "xaQQJnERRIsO",
        "colab_type": "text"
      },
      "source": [
        "# Task 4: Neural Networks\n",
        "\n",
        "### Linear Equations\n",
        "\n",
        "![Single Neuron](images/1_2.png)\n",
        "\n",
        "The above graph simply represents the equation:\n",
        "\n",
        "\\begin{equation}\n",
        "y = w1 * x1 + w2 * x2 + w3 * x3 + b\n",
        "\\end{equation}\n",
        "\n",
        "Where the `w1, w2, w3` are called the weights and `b` is an intercept term called bias. The equation can also be *vectorised* like this:\n",
        "\n",
        "\\begin{equation}\n",
        "y = W . X + b\n",
        "\\end{equation}\n",
        "\n",
        "Where `X = [x1, x2, x3]` and `W = [w1, w2, w3].T`. The .T means *transpose*. This is because we want the dot product to give us the result we want i.e. `w1 * x1 + w2 * x2 + w3 * x3`. This gives us the vectorised version of our linear equation.\n",
        "\n",
        "A simple, linear approach to solving hand-written image classification problem - could it work?\n",
        "\n",
        "![Single Neuron with 784 features](images/1_3.png)\n",
        "\n",
        "### Neural Networks\n",
        "\n",
        "![Neural Network with 2 hidden layers](images/1_4.png)\n",
        "\n",
        "This model is much more likely to solve the problem as it can learn more complex function mapping for the inputs and outputs in our dataset."
      ]
    },
    {
      "cell_type": "markdown",
      "metadata": {
        "id": "SabKINXJRIsP",
        "colab_type": "text"
      },
      "source": [
        "# Task 5: Preprocessing the Examples\n",
        "\n",
        "### Unrolling N-dimensional Arrays to Vectors"
      ]
    },
    {
      "cell_type": "code",
      "metadata": {
        "id": "OUXrnY4rRIsR",
        "colab_type": "code",
        "colab": {}
      },
      "source": [
        "import numpy as np\n",
        "\n",
        "xtrain_reshape = np.reshape(xtrain, (60000,784))\n",
        "xtest_reshape = np.reshape(xtest, (10000,784))"
      ],
      "execution_count": 25,
      "outputs": []
    },
    {
      "cell_type": "code",
      "metadata": {
        "id": "ZriJCByaZR_d",
        "colab_type": "code",
        "colab": {
          "base_uri": "https://localhost:8080/",
          "height": 50
        },
        "outputId": "6dacbf4a-4c0f-4c70-88ab-475ed79142d7"
      },
      "source": [
        "print(\"xtrain_reshape shape\",xtrain_reshape.shape)\n",
        "print(\"xtest_reshape shape\",xtest_reshape.shape)"
      ],
      "execution_count": 27,
      "outputs": [
        {
          "output_type": "stream",
          "text": [
            "xtrain_reshape shape (60000, 784)\n",
            "xtest_reshape shape (10000, 784)\n"
          ],
          "name": "stdout"
        }
      ]
    },
    {
      "cell_type": "markdown",
      "metadata": {
        "id": "cTolcGP9RIsW",
        "colab_type": "text"
      },
      "source": [
        "### Display Pixel Values"
      ]
    },
    {
      "cell_type": "code",
      "metadata": {
        "id": "2wbEXo3KRIsX",
        "colab_type": "code",
        "colab": {
          "base_uri": "https://localhost:8080/",
          "height": 54
        },
        "outputId": "52526685-773a-4101-eb66-34015ebbb716"
      },
      "source": [
        "print(set(xtrain_reshape[0]))"
      ],
      "execution_count": 30,
      "outputs": [
        {
          "output_type": "stream",
          "text": [
            "{0, 1, 2, 3, 9, 11, 14, 16, 18, 23, 24, 25, 26, 27, 30, 35, 36, 39, 43, 45, 46, 49, 55, 56, 64, 66, 70, 78, 80, 81, 82, 90, 93, 94, 107, 108, 114, 119, 126, 127, 130, 132, 133, 135, 136, 139, 148, 150, 154, 156, 160, 166, 170, 171, 172, 175, 182, 183, 186, 187, 190, 195, 198, 201, 205, 207, 212, 213, 219, 221, 225, 226, 229, 238, 240, 241, 242, 244, 247, 249, 250, 251, 252, 253, 255}\n"
          ],
          "name": "stdout"
        }
      ]
    },
    {
      "cell_type": "markdown",
      "metadata": {
        "id": "wPZWOqKYRIsc",
        "colab_type": "text"
      },
      "source": [
        "### Data Normalization"
      ]
    },
    {
      "cell_type": "code",
      "metadata": {
        "id": "aGDZc4pXRIsd",
        "colab_type": "code",
        "colab": {}
      },
      "source": [
        "from sklearn.preprocessing import StandardScaler\n",
        "\n",
        "st = StandardScaler()\n",
        "xtrain_std = st.fit_transform(xtrain_reshape)\n",
        "xtest_std = st.transform(xtest_reshape)"
      ],
      "execution_count": 31,
      "outputs": []
    },
    {
      "cell_type": "markdown",
      "metadata": {
        "id": "3NeqFwHwRIsi",
        "colab_type": "text"
      },
      "source": [
        "### Display Normalized Pixel Values"
      ]
    },
    {
      "cell_type": "code",
      "metadata": {
        "id": "XZOPtOqXRIsj",
        "colab_type": "code",
        "colab": {
          "base_uri": "https://localhost:8080/",
          "height": 282
        },
        "outputId": "b187245c-474c-4901-dbb6-f1c00f2e1055"
      },
      "source": [
        "plt.imshow(xtrain_std[0].reshape(28,28),cmap=\"gray\")"
      ],
      "execution_count": 38,
      "outputs": [
        {
          "output_type": "execute_result",
          "data": {
            "text/plain": [
              "<matplotlib.image.AxesImage at 0x7fc16c5fd4e0>"
            ]
          },
          "metadata": {
            "tags": []
          },
          "execution_count": 38
        },
        {
          "output_type": "display_data",
          "data": {
            "image/png": "[encoded data removed]",
            "text/plain": [
              "<Figure size 432x288 with 1 Axes>"
            ]
          },
          "metadata": {
            "tags": [],
            "needs_background": "light"
          }
        }
      ]
    },
    {
      "cell_type": "markdown",
      "metadata": {
        "id": "P1eTyMZCRIso",
        "colab_type": "text"
      },
      "source": [
        "# Task 6: Creating a Model\n",
        "### Creating the Model"
      ]
    },
    {
      "cell_type": "code",
      "metadata": {
        "id": "6l1n4woCRIsp",
        "colab_type": "code",
        "colab": {}
      },
      "source": [
        "from tensorflow.keras.models import  Sequential\n",
        "from tensorflow.keras.layers import Dense\n",
        "\n",
        "model = Sequential([Dense(128, activation = \"relu\",input_shape=(784,)),\n",
        "                    Dense(128, activation = \"relu\"),\n",
        "                    Dense(10, activation = \"softmax\")])"
      ],
      "execution_count": 39,
      "outputs": []
    },
    {
      "cell_type": "markdown",
      "metadata": {
        "id": "DeIfzK0ZRIsu",
        "colab_type": "text"
      },
      "source": [
        "### Activation Functions\n",
        "\n",
        "The first step in the node is the linear sum of the inputs:\n",
        "\\begin{equation}\n",
        "Z = W . X + b\n",
        "\\end{equation}\n",
        "\n",
        "The second step in the node is the activation function output:\n",
        "\n",
        "\\begin{equation}\n",
        "A = f(Z)\n",
        "\\end{equation}\n",
        "\n",
        "Graphical representation of a node where the two operations are performed:\n",
        "\n",
        "![ReLU](images/1_5.png)\n",
        "\n",
        "### Compiling the Model"
      ]
    },
    {
      "cell_type": "code",
      "metadata": {
        "id": "KqBZI2UzRIsv",
        "colab_type": "code",
        "colab": {}
      },
      "source": [
        "model.compile(optimizer=\"adam\", metrics=\"accuracy\", loss=\"categorical_crossentropy\")"
      ],
      "execution_count": 40,
      "outputs": []
    },
    {
      "cell_type": "code",
      "metadata": {
        "id": "tchnVVKceyp9",
        "colab_type": "code",
        "colab": {
          "base_uri": "https://localhost:8080/",
          "height": 252
        },
        "outputId": "a8378e38-1a09-41d0-e06c-c674e9956e10"
      },
      "source": [
        "model.summary()"
      ],
      "execution_count": 41,
      "outputs": [
        {
          "output_type": "stream",
          "text": [
            "Model: \"sequential\"\n",
            "_________________________________________________________________\n",
            "Layer (type)                 Output Shape              Param #   \n",
            "=================================================================\n",
            "dense (Dense)                (None, 128)               100480    \n",
            "_________________________________________________________________\n",
            "dense_1 (Dense)              (None, 128)               16512     \n",
            "_________________________________________________________________\n",
            "dense_2 (Dense)              (None, 10)                1290      \n",
            "=================================================================\n",
            "Total params: 118,282\n",
            "Trainable params: 118,282\n",
            "Non-trainable params: 0\n",
            "_________________________________________________________________\n"
          ],
          "name": "stdout"
        }
      ]
    },
    {
      "cell_type": "markdown",
      "metadata": {
        "id": "GysN_H8VRIs0",
        "colab_type": "text"
      },
      "source": [
        "# Task 7: Training the Model\n",
        "\n",
        "### Training the Model"
      ]
    },
    {
      "cell_type": "code",
      "metadata": {
        "id": "4Js-wUU6RIs0",
        "colab_type": "code",
        "colab": {
          "base_uri": "https://localhost:8080/",
          "height": 706
        },
        "outputId": "cb5088dd-96ad-4aed-82f2-bd1d773fc676"
      },
      "source": [
        "model.fit(xtrain_std,ytrain_encoded, batch_size=32, epochs=20, validation_data=(xtest_std,ytest_encoded))"
      ],
      "execution_count": 42,
      "outputs": [
        {
          "output_type": "stream",
          "text": [
            "Epoch 1/20\n",
            "1875/1875 [==============================] - 5s 2ms/step - loss: 0.2246 - accuracy: 0.9351 - val_loss: 0.1497 - val_accuracy: 0.9586\n",
            "Epoch 2/20\n",
            "1875/1875 [==============================] - 4s 2ms/step - loss: 0.1001 - accuracy: 0.9695 - val_loss: 0.1573 - val_accuracy: 0.9575\n",
            "Epoch 3/20\n",
            "1875/1875 [==============================] - 4s 2ms/step - loss: 0.0688 - accuracy: 0.9785 - val_loss: 0.1293 - val_accuracy: 0.9705\n",
            "Epoch 4/20\n",
            "1875/1875 [==============================] - 4s 2ms/step - loss: 0.0538 - accuracy: 0.9825 - val_loss: 0.1435 - val_accuracy: 0.9688\n",
            "Epoch 5/20\n",
            "1875/1875 [==============================] - 4s 2ms/step - loss: 0.0443 - accuracy: 0.9863 - val_loss: 0.1269 - val_accuracy: 0.9720\n",
            "Epoch 6/20\n",
            "1875/1875 [==============================] - 4s 2ms/step - loss: 0.0381 - accuracy: 0.9881 - val_loss: 0.1414 - val_accuracy: 0.9721\n",
            "Epoch 7/20\n",
            "1875/1875 [==============================] - 4s 2ms/step - loss: 0.0333 - accuracy: 0.9891 - val_loss: 0.1544 - val_accuracy: 0.9710\n",
            "Epoch 8/20\n",
            "1875/1875 [==============================] - 4s 2ms/step - loss: 0.0302 - accuracy: 0.9909 - val_loss: 0.1532 - val_accuracy: 0.9736\n",
            "Epoch 9/20\n",
            "1875/1875 [==============================] - 4s 2ms/step - loss: 0.0310 - accuracy: 0.9909 - val_loss: 0.1806 - val_accuracy: 0.9724\n",
            "Epoch 10/20\n",
            "1875/1875 [==============================] - 4s 2ms/step - loss: 0.0280 - accuracy: 0.9919 - val_loss: 0.1878 - val_accuracy: 0.9725\n",
            "Epoch 11/20\n",
            "1875/1875 [==============================] - 4s 2ms/step - loss: 0.0282 - accuracy: 0.9925 - val_loss: 0.2143 - val_accuracy: 0.9706\n",
            "Epoch 12/20\n",
            "1875/1875 [==============================] - 4s 2ms/step - loss: 0.0216 - accuracy: 0.9936 - val_loss: 0.1897 - val_accuracy: 0.9734\n",
            "Epoch 13/20\n",
            "1875/1875 [==============================] - 4s 2ms/step - loss: 0.0280 - accuracy: 0.9926 - val_loss: 0.2111 - val_accuracy: 0.9743\n",
            "Epoch 14/20\n",
            "1875/1875 [==============================] - 4s 2ms/step - loss: 0.0238 - accuracy: 0.9937 - val_loss: 0.2517 - val_accuracy: 0.9713\n",
            "Epoch 15/20\n",
            "1875/1875 [==============================] - 4s 2ms/step - loss: 0.0253 - accuracy: 0.9942 - val_loss: 0.2246 - val_accuracy: 0.9739\n",
            "Epoch 16/20\n",
            "1875/1875 [==============================] - 4s 2ms/step - loss: 0.0232 - accuracy: 0.9946 - val_loss: 0.2367 - val_accuracy: 0.9755\n",
            "Epoch 17/20\n",
            "1875/1875 [==============================] - 4s 2ms/step - loss: 0.0265 - accuracy: 0.9942 - val_loss: 0.2414 - val_accuracy: 0.9729\n",
            "Epoch 18/20\n",
            "1875/1875 [==============================] - 4s 2ms/step - loss: 0.0175 - accuracy: 0.9958 - val_loss: 0.3253 - val_accuracy: 0.9682\n",
            "Epoch 19/20\n",
            "1875/1875 [==============================] - 4s 2ms/step - loss: 0.0259 - accuracy: 0.9943 - val_loss: 0.3040 - val_accuracy: 0.9740\n",
            "Epoch 20/20\n",
            "1875/1875 [==============================] - 4s 2ms/step - loss: 0.0200 - accuracy: 0.9956 - val_loss: 0.2586 - val_accuracy: 0.9747\n"
          ],
          "name": "stdout"
        },
        {
          "output_type": "execute_result",
          "data": {
            "text/plain": [
              "<tensorflow.python.keras.callbacks.History at 0x7fc173e4d710>"
            ]
          },
          "metadata": {
            "tags": []
          },
          "execution_count": 42
        }
      ]
    },
    {
      "cell_type": "markdown",
      "metadata": {
        "id": "hTjBlYCYRIs5",
        "colab_type": "text"
      },
      "source": [
        "### Evaluating the Model"
      ]
    },
    {
      "cell_type": "code",
      "metadata": {
        "id": "nAXiXoZqRIs5",
        "colab_type": "code",
        "colab": {
          "base_uri": "https://localhost:8080/",
          "height": 34
        },
        "outputId": "bb184cef-fc4b-47c7-ebf9-236e0e0acdb3"
      },
      "source": [
        "loss, accuracy = model.evaluate(xtest_std,ytest_encoded)"
      ],
      "execution_count": 43,
      "outputs": [
        {
          "output_type": "stream",
          "text": [
            "313/313 [==============================] - 0s 939us/step - loss: 0.2586 - accuracy: 0.9747\n"
          ],
          "name": "stdout"
        }
      ]
    },
    {
      "cell_type": "markdown",
      "metadata": {
        "id": "5JYEdxhVRIs-",
        "colab_type": "text"
      },
      "source": [
        "# Task 8: Predictions\n",
        "\n",
        "### Predictions on Test Set"
      ]
    },
    {
      "cell_type": "code",
      "metadata": {
        "id": "AZZ-ggSbRIs_",
        "colab_type": "code",
        "colab": {}
      },
      "source": [
        "predictions = model.predict(xtest_std)"
      ],
      "execution_count": 47,
      "outputs": []
    },
    {
      "cell_type": "code",
      "metadata": {
        "id": "4Ra69JBdggug",
        "colab_type": "code",
        "colab": {
          "base_uri": "https://localhost:8080/",
          "height": 34
        },
        "outputId": "3b95e36f-2785-443a-ada5-e0cc5fc4dca2"
      },
      "source": [
        "np.argmax(predictions[0])"
      ],
      "execution_count": 54,
      "outputs": [
        {
          "output_type": "execute_result",
          "data": {
            "text/plain": [
              "7"
            ]
          },
          "metadata": {
            "tags": []
          },
          "execution_count": 54
        }
      ]
    },
    {
      "cell_type": "markdown",
      "metadata": {
        "id": "FsUpnEfXRItD",
        "colab_type": "text"
      },
      "source": [
        "### Plotting the Results"
      ]
    },
    {
      "cell_type": "code",
      "metadata": {
        "id": "MhUjdmoVRItE",
        "colab_type": "code",
        "colab": {
          "base_uri": "https://localhost:8080/",
          "height": 873
        },
        "outputId": "5bfc1e62-f6de-4169-d8ed-110f01e9840d"
      },
      "source": [
        "plt.figure(figsize=(12,12))\n",
        "\n",
        "start_index = 0\n",
        "\n",
        "for i in range(25):\n",
        "  plt.subplot(5, 5, i+1)\n",
        "  plt.grid(False)\n",
        "  # plt.xticks(rotation=45)\n",
        "  # plt.yticks([])\n",
        "  \n",
        "  preds = np.argmax([predictions[start_index+i]])\n",
        "  gt = ytest[start_index+i]\n",
        "\n",
        "  col = \"g\"\n",
        "  if preds != gt:\n",
        "    col =\"r\"\n",
        "\n",
        "  plt.xlabel('i={}, pred={}, gt={}'.format(start_index+i,preds,gt),color=col)\n",
        "  plt.imshow(xtest[start_index+i], cmap=\"binary\")\n",
        "  plt.tight_layout()\n",
        "\n",
        "plt.show()\n",
        "\n"
      ],
      "execution_count": 61,
      "outputs": [
        {
          "output_type": "display_data",
          "data": {
            "image/png": "[encoded data removed]",
            "text/plain": [
              "<Figure size 864x864 with 24 Axes>"
            ]
          },
          "metadata": {
            "tags": [],
            "needs_background": "light"
          }
        }
      ]
    },
    {
      "cell_type": "code",
      "metadata": {
        "id": "bUP2648FRItJ",
        "colab_type": "code",
        "colab": {}
      },
      "source": [
        ""
      ],
      "execution_count": null,
      "outputs": []
    }
  ]
}